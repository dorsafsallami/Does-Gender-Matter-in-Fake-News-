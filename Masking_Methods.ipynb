{
  "nbformat": 4,
  "nbformat_minor": 0,
  "metadata": {
    "colab": {
      "provenance": []
    },
    "kernelspec": {
      "name": "python3",
      "display_name": "Python 3"
    },
    "language_info": {
      "name": "python"
    }
  },
  "cells": [
    {
      "cell_type": "code",
      "execution_count": null,
      "metadata": {
        "id": "UtQP-FwSlisl"
      },
      "outputs": [],
      "source": [
        "from google.colab import drive\n",
        "drive.mount('/content/drive')"
      ]
    },
    {
      "cell_type": "markdown",
      "source": [
        "# Masking-Remove"
      ],
      "metadata": {
        "id": "HiLbMkCilt5g"
      }
    },
    {
      "cell_type": "code",
      "source": [
        "import pandas as pd\n",
        "import spacy\n",
        "from nltk.corpus import names\n",
        "import nltk\n",
        "import pandas as pd\n",
        "import re\n",
        "\n",
        "nltk.download('names')\n",
        "\n",
        "nlp = spacy.load(\"en_core_web_sm\")"
      ],
      "metadata": {
        "id": "uO1NMQnLlxfZ"
      },
      "execution_count": null,
      "outputs": []
    },
    {
      "cell_type": "code",
      "source": [
        "gender_specific_words = [\n",
        "    'he', 'she', 'him', 'her', 'his', 'hers', 'man', 'woman', 'men', 'women',\n",
        "    'boy', 'girl', 'boys', 'girls', 'male', 'female', 'father', 'mother',\n",
        "    'brother', 'sister', 'son', 'daughter', 'husband', 'wife', 'actor', 'actress',\n",
        "    'waiter', 'waitress', 'policeman', 'policewoman', 'fireman', 'firewoman'\n",
        "]\n",
        "\n",
        "\n",
        "male_names = names.words('male.txt')\n",
        "female_names = names.words('female.txt')\n",
        "gender_specific_words.extend(male_names)\n",
        "gender_specific_words.extend(female_names)\n",
        "\n",
        "pattern = r'\\b(?:' + '|'.join(gender_specific_words) + r')\\b'\n",
        "\n",
        "def remove_gender_mentions(text):\n",
        "\n",
        "    doc = nlp(text)\n",
        "    person_names = {ent.text for ent in doc.ents if ent.label_ == \"PERSON\"}\n",
        "\n",
        "\n",
        "    if person_names:\n",
        "        person_pattern = r'\\b(?:' + '|'.join(re.escape(name) for name in person_names) + r')\\b'\n",
        "        combined_pattern = f'{pattern}|{person_pattern}'\n",
        "    else:\n",
        "        combined_pattern = pattern\n",
        "\n",
        "\n",
        "    cleaned_text = re.sub(combined_pattern, '', text, flags=re.IGNORECASE)\n",
        "\n",
        "    cleaned_text = ' '.join(cleaned_text.split())\n",
        "    return cleaned_text"
      ],
      "metadata": {
        "id": "1ES6ckLemt63"
      },
      "execution_count": null,
      "outputs": []
    },
    {
      "cell_type": "markdown",
      "source": [
        "## FakeNewsNet"
      ],
      "metadata": {
        "id": "44Cct2MNnsIN"
      }
    },
    {
      "cell_type": "code",
      "source": [
        "df = pd.read_csv (\"/content/drive/MyDrive/Gender Bias/FakeNewsNet2.csv\")\n",
        "\n",
        "df['title_masking_remove'] = df['title'].apply(remove_gender_mentions)\n",
        "\n",
        "output_csv_path = \"/content/drive/MyDrive/Gender Bias/FakeNewsNet2.csv\"\n",
        "df.to_csv(output_csv_path, index=False)"
      ],
      "metadata": {
        "id": "VKwS1B88nvt9"
      },
      "execution_count": null,
      "outputs": []
    },
    {
      "cell_type": "markdown",
      "source": [
        "## COVID-19 Fake News Dataset"
      ],
      "metadata": {
        "id": "m62OC36Tn60s"
      }
    },
    {
      "cell_type": "code",
      "source": [
        "df = pd.read_csv ('/content/drive/MyDrive/Gender Bias/covid.csv')\n",
        "\n",
        "\n",
        "df['title_masking_remove'] = df['tweet'].apply(remove_gender_mentions)\n",
        "\n",
        "output_csv_path = \"/content/drive/MyDrive/Gender Bias/covid.csv\"\n",
        "df.to_csv(output_csv_path, index=False)"
      ],
      "metadata": {
        "id": "xDTiozj6n-l2"
      },
      "execution_count": null,
      "outputs": []
    },
    {
      "cell_type": "markdown",
      "source": [
        "## ISOT"
      ],
      "metadata": {
        "id": "aq7TqujPocsG"
      }
    },
    {
      "cell_type": "code",
      "source": [
        "df = pd.read_csv (\"/content/drive/MyDrive/Gender Bias/isot.csv\")\n",
        "\n",
        "df['title_masking_remove'] = df['title'].apply(remove_gender_mentions)\n",
        "\n"
      ],
      "metadata": {
        "id": "6wWUHt53ogN0"
      },
      "execution_count": null,
      "outputs": []
    },
    {
      "cell_type": "code",
      "source": [
        "output_csv_path = \"/content/drive/MyDrive/Gender Bias/isot.csv\"\n",
        "df.to_csv(output_csv_path, index=False)"
      ],
      "metadata": {
        "id": "eUD_5qq8w_GY"
      },
      "execution_count": null,
      "outputs": []
    },
    {
      "cell_type": "markdown",
      "source": [
        "# Masking-Replace"
      ],
      "metadata": {
        "id": "0sSerXHtfqSZ"
      }
    },
    {
      "cell_type": "code",
      "source": [
        "import pandas as pd\n",
        "import spacy\n",
        "from nltk.corpus import names\n",
        "import nltk\n",
        "import pandas as pd\n",
        "import re\n",
        "\n",
        "nltk.download('names')\n",
        "\n",
        "nlp = spacy.load(\"en_core_web_sm\")"
      ],
      "metadata": {
        "id": "MreDoTbYfqSa"
      },
      "execution_count": null,
      "outputs": []
    },
    {
      "cell_type": "code",
      "source": [
        "gender_specific_words = [\n",
        "    'he', 'she', 'him', 'her', 'his', 'hers', 'man', 'woman', 'men', 'women',\n",
        "    'boy', 'girl', 'boys', 'girls', 'male', 'female', 'father', 'mother',\n",
        "    'brother', 'sister', 'son', 'daughter', 'husband', 'wife', 'actor', 'actress',\n",
        "    'waiter', 'waitress', 'policeman', 'policewoman', 'fireman', 'firewoman'\n",
        "\n",
        "]\n",
        "\n",
        "\n",
        "male_names = names.words('male.txt')\n",
        "female_names = names.words('female.txt')\n",
        "gender_specific_words.extend(male_names)\n",
        "gender_specific_words.extend(female_names)\n",
        "\n",
        "\n",
        "pattern = r'\\b(?:' + '|'.join(gender_specific_words) + r')\\b'\n",
        "\n",
        "def replace_gender_mentions(text, placeholder='[GENDER]'):\n",
        "\n",
        "    doc = nlp(text)\n",
        "\n",
        "    person_names = {ent.text for ent in doc.ents if ent.label_ == \"PERSON\"}\n",
        "\n",
        "\n",
        "    if person_names:\n",
        "        person_pattern = r'\\b(?:' + '|'.join(re.escape(name) for name in person_names) + r')\\b'\n",
        "        combined_pattern = f'{pattern}|{person_pattern}'\n",
        "    else:\n",
        "        combined_pattern = pattern\n",
        "\n",
        "\n",
        "    cleaned_text = re.sub(combined_pattern, placeholder, text, flags=re.IGNORECASE)\n",
        "    cleaned_text = ' '.join(cleaned_text.split())\n",
        "    return cleaned_text"
      ],
      "metadata": {
        "id": "WLqGo-YofqSb"
      },
      "execution_count": null,
      "outputs": []
    },
    {
      "cell_type": "code",
      "source": [
        "input_text = \"John and Mary are great actors. He is her brother.\"\n",
        "cleaned_text = replace_gender_mentions(input_text)\n",
        "print(cleaned_text)"
      ],
      "metadata": {
        "id": "lLMK6wpjfqSb"
      },
      "execution_count": null,
      "outputs": []
    },
    {
      "cell_type": "markdown",
      "source": [
        "## FakeNewsNet"
      ],
      "metadata": {
        "id": "oDPDkskufqSb"
      }
    },
    {
      "cell_type": "code",
      "source": [
        "df = pd.read_csv (\"/content/drive/MyDrive/Gender Bias/FakeNewsNet2.csv\")\n",
        "\n",
        "df['title_masking_replace'] = df['title'].apply(replace_gender_mentions)\n",
        "\n",
        "output_csv_path = \"/content/drive/MyDrive/Gender Bias/FakeNewsNet2.csv\"\n",
        "df.to_csv(output_csv_path, index=False)"
      ],
      "metadata": {
        "id": "XOeQitoDfqSb"
      },
      "execution_count": null,
      "outputs": []
    },
    {
      "cell_type": "markdown",
      "source": [
        "## COVID-19 Fake News Dataset"
      ],
      "metadata": {
        "id": "Fmi9z1k9fqSb"
      }
    },
    {
      "cell_type": "code",
      "source": [
        "df = pd.read_csv ('/content/drive/MyDrive/Gender Bias/covid.csv')\n",
        "\n",
        "\n",
        "df['title_masking_replace'] = df['tweet'].apply(replace_gender_mentions)\n",
        "\n",
        "output_csv_path = \"/content/drive/MyDrive/Gender Bias/covid.csv\"\n",
        "df.to_csv(output_csv_path, index=False)"
      ],
      "metadata": {
        "id": "wpCt8b7MfqSc"
      },
      "execution_count": null,
      "outputs": []
    },
    {
      "cell_type": "markdown",
      "source": [
        "## ISOT"
      ],
      "metadata": {
        "id": "CG8PwyqJfqSc"
      }
    },
    {
      "cell_type": "code",
      "source": [
        "df = pd.read_csv (\"/content/drive/MyDrive/Gender Bias/isot.csv\")\n",
        "\n",
        "df['title_masking_replace'] = df['tweet'].apply(replace_gender_mentions)\n",
        "\n"
      ],
      "metadata": {
        "id": "3-KXarhwfqSc"
      },
      "execution_count": null,
      "outputs": []
    },
    {
      "cell_type": "code",
      "source": [
        "output_csv_path = \"/content/drive/MyDrive/Gender Bias/isot.csv\"\n",
        "df.to_csv(output_csv_path, index=False)"
      ],
      "metadata": {
        "id": "QSeRxbW3fqSc"
      },
      "execution_count": null,
      "outputs": []
    }
  ]
}